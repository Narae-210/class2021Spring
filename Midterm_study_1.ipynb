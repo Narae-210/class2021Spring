{
  "nbformat": 4,
  "nbformat_minor": 0,
  "metadata": {
    "colab": {
      "name": "Midterm_study_1.ipynb",
      "provenance": [],
      "authorship_tag": "ABX9TyNat0JMcnj6yaH+U/+U2q4E",
      "include_colab_link": true
    },
    "kernelspec": {
      "name": "python3",
      "display_name": "Python 3"
    },
    "language_info": {
      "name": "python"
    }
  },
  "cells": [
    {
      "cell_type": "markdown",
      "metadata": {
        "id": "view-in-github",
        "colab_type": "text"
      },
      "source": [
        "<a href=\"https://colab.research.google.com/github/Narae-210/class2021Spring/blob/main/Midterm_study_1.ipynb\" target=\"_parent\"><img src=\"https://colab.research.google.com/assets/colab-badge.svg\" alt=\"Open In Colab\"/></a>"
      ]
    },
    {
      "cell_type": "markdown",
      "metadata": {
        "id": "DbacnbC9-Fgd"
      },
      "source": [
        "**Variables**"
      ]
    },
    {
      "cell_type": "code",
      "metadata": {
        "colab": {
          "base_uri": "https://localhost:8080/"
        },
        "id": "aWrImWhj8zxS",
        "outputId": "03df6149-6e91-4449-b899-54f3f064836a"
      },
      "source": [
        "a = 1; print(type(a))"
      ],
      "execution_count": 1,
      "outputs": [
        {
          "output_type": "stream",
          "text": [
            "<class 'int'>\n"
          ],
          "name": "stdout"
        }
      ]
    },
    {
      "cell_type": "code",
      "metadata": {
        "colab": {
          "base_uri": "https://localhost:8080/"
        },
        "id": "LWiQH0aK8_10",
        "outputId": "68f28dff-505a-4c90-d906-428ef3631647"
      },
      "source": [
        "a = 1; a = float(a); print(type(a))"
      ],
      "execution_count": 2,
      "outputs": [
        {
          "output_type": "stream",
          "text": [
            "<class 'float'>\n"
          ],
          "name": "stdout"
        }
      ]
    },
    {
      "cell_type": "code",
      "metadata": {
        "colab": {
          "base_uri": "https://localhost:8080/"
        },
        "id": "Eh2DoKF_9Ee1",
        "outputId": "0ed3e1bc-ace4-4272-f6de-0bf74954e7a7"
      },
      "source": [
        "a = 1.2 \n",
        "# a = int(a); print(type(a))\n",
        "print(type(a))"
      ],
      "execution_count": 3,
      "outputs": [
        {
          "output_type": "stream",
          "text": [
            "<class 'float'>\n"
          ],
          "name": "stdout"
        }
      ]
    },
    {
      "cell_type": "code",
      "metadata": {
        "colab": {
          "base_uri": "https://localhost:8080/"
        },
        "id": "ahW9USlI9L7X",
        "outputId": "7a15fcd8-41c0-4761-fce0-5e6f901cf114"
      },
      "source": [
        "a = 1.2 \n",
        "a = int(a); print(type(a))"
      ],
      "execution_count": 4,
      "outputs": [
        {
          "output_type": "stream",
          "text": [
            "<class 'int'>\n"
          ],
          "name": "stdout"
        }
      ]
    },
    {
      "cell_type": "code",
      "metadata": {
        "colab": {
          "base_uri": "https://localhost:8080/"
        },
        "id": "IOhPI55M9QOQ",
        "outputId": "4777b3bf-74ca-4bfc-df26-5da9d861d42b"
      },
      "source": [
        "a = '123'; print(type(a)); print(a[1])"
      ],
      "execution_count": 5,
      "outputs": [
        {
          "output_type": "stream",
          "text": [
            "<class 'str'>\n",
            "2\n"
          ],
          "name": "stdout"
        }
      ]
    },
    {
      "cell_type": "code",
      "metadata": {
        "colab": {
          "base_uri": "https://localhost:8080/"
        },
        "id": "L4R6v0Xz9XVd",
        "outputId": "df3e696c-a377-4855-a1ff-87bcb0e03381"
      },
      "source": [
        "a = '123'; a = list(a); print(type(a)); print(a); print(a[2])"
      ],
      "execution_count": 6,
      "outputs": [
        {
          "output_type": "stream",
          "text": [
            "<class 'list'>\n",
            "['1', '2', '3']\n",
            "3\n"
          ],
          "name": "stdout"
        }
      ]
    },
    {
      "cell_type": "code",
      "metadata": {
        "colab": {
          "base_uri": "https://localhost:8080/"
        },
        "id": "XvpdQ8Ef9cJd",
        "outputId": "35e49cc7-66d2-4ee4-aeaa-75f32c4b86f3"
      },
      "source": [
        "a = [1,'2', [3, '4']]; print(type(a)); print(a[0]); print(a[1]); print(a[2])"
      ],
      "execution_count": 7,
      "outputs": [
        {
          "output_type": "stream",
          "text": [
            "<class 'list'>\n",
            "1\n",
            "2\n",
            "[3, '4']\n"
          ],
          "name": "stdout"
        }
      ]
    },
    {
      "cell_type": "code",
      "metadata": {
        "colab": {
          "base_uri": "https://localhost:8080/"
        },
        "id": "iUvnuOIf9mFo",
        "outputId": "eb4c026d-b730-4bd1-bd9d-4092a46513c6"
      },
      "source": [
        "a = (1,'2', [3, '4']); print(type(a)); print(a[0]); print(a[1]); print(a[2])"
      ],
      "execution_count": 8,
      "outputs": [
        {
          "output_type": "stream",
          "text": [
            "<class 'tuple'>\n",
            "1\n",
            "2\n",
            "[3, '4']\n"
          ],
          "name": "stdout"
        }
      ]
    },
    {
      "cell_type": "code",
      "metadata": {
        "colab": {
          "base_uri": "https://localhost:8080/"
        },
        "id": "9L56dtB59sI3",
        "outputId": "e7ddba6e-8e25-494a-8dfb-336d6a981318"
      },
      "source": [
        "a =\t{\"a\": \"apple\", \"b\": \"orange\", 1: 2014}\n",
        "print(type(a))\n",
        "print(a[\"a\"])\n",
        "print(a[1])"
      ],
      "execution_count": 11,
      "outputs": [
        {
          "output_type": "stream",
          "text": [
            "<class 'dict'>\n",
            "apple\n",
            "2014\n"
          ],
          "name": "stdout"
        }
      ]
    },
    {
      "cell_type": "code",
      "metadata": {
        "colab": {
          "base_uri": "https://localhost:8080/"
        },
        "id": "C07SA8Mx981q",
        "outputId": "26d89f65-8475-4421-9d20-791884007f27"
      },
      "source": [
        "a=[(1,2,3), (3,8,0)]\n",
        "print(type(a))\n",
        "a\n",
        "print(a[1])\n",
        "print(type(a[1]))"
      ],
      "execution_count": 13,
      "outputs": [
        {
          "output_type": "stream",
          "text": [
            "<class 'list'>\n",
            "(3, 8, 0)\n",
            "<class 'tuple'>\n"
          ],
          "name": "stdout"
        }
      ]
    },
    {
      "cell_type": "markdown",
      "metadata": {
        "id": "SdPhiJDS-dBQ"
      },
      "source": [
        "**String**"
      ]
    },
    {
      "cell_type": "code",
      "metadata": {
        "colab": {
          "base_uri": "https://localhost:8080/"
        },
        "id": "rbGy0M7o-esB",
        "outputId": "25d3697e-b2b9-4ccf-f8f2-1c24e4d44b80"
      },
      "source": [
        "s = 'abcdef'\n",
        "print(s[0], s[5], s[-1], s[-6])\n",
        "print(s[1:3], s[1:], s[:3], s[:])\n",
        "#1:3은 인덱싱으로 했을 때 1,2,3이 아니라!!!! 1,2임을 꼭 기억하렴!!!??!?^_^ \n",
        "#그치만 n:이거는 그냥 n부터 끝까지!임!! $_$! 근데 또 :n은 첨부터 n-1까지다!!! 헐랭"
      ],
      "execution_count": 16,
      "outputs": [
        {
          "output_type": "stream",
          "text": [
            "a f f a\n",
            "bc bcdef abc abcdef\n"
          ],
          "name": "stdout"
        }
      ]
    },
    {
      "cell_type": "code",
      "metadata": {
        "colab": {
          "base_uri": "https://localhost:8080/"
        },
        "id": "zEDjayJb_CBN",
        "outputId": "927460d0-b984-4eb8-e499-c8943bd3069a"
      },
      "source": [
        "n = [100, 200, 300]\n",
        "print(n[0], n[2], n[-1], n[-3])\n",
        "print(n[1:2], n[1:], n[:2], n[:])\n",
        "#n[1:2]는 그냥 n[1]이랑 똑같음~~@_@"
      ],
      "execution_count": 17,
      "outputs": [
        {
          "output_type": "stream",
          "text": [
            "100 300 300 100\n",
            "[200] [200, 300] [100, 200] [100, 200, 300]\n"
          ],
          "name": "stdout"
        }
      ]
    },
    {
      "cell_type": "code",
      "metadata": {
        "colab": {
          "base_uri": "https://localhost:8080/"
        },
        "id": "Iy5qsB4i_eGG",
        "outputId": "9676b14e-fe15-4fc7-88a6-333904f91698"
      },
      "source": [
        "len(s)"
      ],
      "execution_count": 29,
      "outputs": [
        {
          "output_type": "execute_result",
          "data": {
            "text/plain": [
              "6"
            ]
          },
          "metadata": {
            "tags": []
          },
          "execution_count": 29
        }
      ]
    },
    {
      "cell_type": "code",
      "metadata": {
        "colab": {
          "base_uri": "https://localhost:8080/"
        },
        "id": "L7gXK9G-_rgx",
        "outputId": "b75d970b-db6a-439a-f987-49e502b7dc19"
      },
      "source": [
        "print(s[1]+s[3]+s[4:]*10)\n",
        "#print함수를 넣으면 ' ' 이게 생기고 빼면 없어짐 오호,,,"
      ],
      "execution_count": 27,
      "outputs": [
        {
          "output_type": "stream",
          "text": [
            "bdefefefefefefefefefef\n"
          ],
          "name": "stdout"
        }
      ]
    },
    {
      "cell_type": "code",
      "metadata": {
        "colab": {
          "base_uri": "https://localhost:8080/",
          "height": 34
        },
        "id": "nU6YbStX_rpL",
        "outputId": "e960da7c-b3ec-4961-a2d2-593c1df9cb9d"
      },
      "source": [
        "s.upper()\n",
        "s\n",
        "#s하면 안나오는 거 보니까 이건 s에 할당되는게 아님!! 그니까 s.upper()자체를 받아줘야만 값이 제대로 나온다는거지\n",
        "#너가 굳이 하나의 변수 입력하고 싶으면\n",
        "b= s.upper()\n",
        "b\n",
        "#이렇게 하렴"
      ],
      "execution_count": 24,
      "outputs": [
        {
          "output_type": "execute_result",
          "data": {
            "application/vnd.google.colaboratory.intrinsic+json": {
              "type": "string"
            },
            "text/plain": [
              "'ABCDEF'"
            ]
          },
          "metadata": {
            "tags": []
          },
          "execution_count": 24
        }
      ]
    },
    {
      "cell_type": "code",
      "metadata": {
        "colab": {
          "base_uri": "https://localhost:8080/",
          "height": 34
        },
        "id": "tbGcLm-RAR-D",
        "outputId": "293db4be-a633-4b0c-b941-0d9e2b59cf3d"
      },
      "source": [
        "s = ' this is a house built this year.\\n' \t\n",
        "s"
      ],
      "execution_count": 66,
      "outputs": [
        {
          "output_type": "execute_result",
          "data": {
            "application/vnd.google.colaboratory.intrinsic+json": {
              "type": "string"
            },
            "text/plain": [
              "' this is a house built this year.\\n'"
            ]
          },
          "metadata": {
            "tags": []
          },
          "execution_count": 66
        }
      ]
    },
    {
      "cell_type": "code",
      "metadata": {
        "colab": {
          "base_uri": "https://localhost:8080/"
        },
        "id": "u_JTAuvdAWQb",
        "outputId": "72c342cb-114b-4054-bb49-c8924ddaac5b"
      },
      "source": [
        "print(s)\n",
        "#print함수 넣으니까 \\n이 제 기능하는거 보이지?!!!ㅎㅎㅎ"
      ],
      "execution_count": 31,
      "outputs": [
        {
          "output_type": "stream",
          "text": [
            " this is a house built this year.\n",
            "\n"
          ],
          "name": "stdout"
        }
      ]
    },
    {
      "cell_type": "code",
      "metadata": {
        "colab": {
          "base_uri": "https://localhost:8080/"
        },
        "id": "hVzpKJpgAa3N",
        "outputId": "eb867f19-a240-41e6-94c7-e4f59816f6cb"
      },
      "source": [
        "result = s.find('house') \t    # index of first instance of string t inside s (-1 if not found)\n",
        "result\n",
        "#이거보이지 result에 결과 다 받은거!!! 아까 upper같은거임!!!! "
      ],
      "execution_count": 32,
      "outputs": [
        {
          "output_type": "execute_result",
          "data": {
            "text/plain": [
              "11"
            ]
          },
          "metadata": {
            "tags": []
          },
          "execution_count": 32
        }
      ]
    },
    {
      "cell_type": "code",
      "metadata": {
        "colab": {
          "base_uri": "https://localhost:8080/"
        },
        "id": "MJp3qoZ1OU4N",
        "outputId": "b9140fe1-b8d5-4628-f8ef-dc7d28aff280"
      },
      "source": [
        "result = s.rfind('this')\t    # index of last instance of string t inside s (-1 if not found)\n",
        "result"
      ],
      "execution_count": 67,
      "outputs": [
        {
          "output_type": "execute_result",
          "data": {
            "text/plain": [
              "23"
            ]
          },
          "metadata": {
            "tags": []
          },
          "execution_count": 67
        }
      ]
    },
    {
      "cell_type": "code",
      "metadata": {
        "colab": {
          "base_uri": "https://localhost:8080/"
        },
        "id": "22_w43RXOZXp",
        "outputId": "2f6a0d0c-2f72-4f33-8c8f-1d46acf68c5b"
      },
      "source": [
        "result = s.rindex('this')        # like s.find(t) except it raises ValueError if not found\n",
        "result\n",
        "#오른쪽부터 찾아서 젤 먼저 나오는 this로 ㄱㄱ!! 근데 인덱싱은 당연히 앞부터~세는거 아시죵~~\n",
        "#find는 없으면 -1, index는 없으면 ValueError!!!!!!!!!!!!!!!"
      ],
      "execution_count": 37,
      "outputs": [
        {
          "output_type": "execute_result",
          "data": {
            "text/plain": [
              "23"
            ]
          },
          "metadata": {
            "tags": []
          },
          "execution_count": 37
        }
      ]
    },
    {
      "cell_type": "code",
      "metadata": {
        "colab": {
          "base_uri": "https://localhost:8080/",
          "height": 181
        },
        "id": "XPo9WfjLOpLi",
        "outputId": "25f96355-76c9-4c68-a540-c388f868f44d"
      },
      "source": [
        "result = s.index('z')\n",
        "result"
      ],
      "execution_count": 36,
      "outputs": [
        {
          "output_type": "error",
          "ename": "ValueError",
          "evalue": "ignored",
          "traceback": [
            "\u001b[0;31m---------------------------------------------------------------------------\u001b[0m",
            "\u001b[0;31mValueError\u001b[0m                                Traceback (most recent call last)",
            "\u001b[0;32m<ipython-input-36-65b863b79582>\u001b[0m in \u001b[0;36m<module>\u001b[0;34m()\u001b[0m\n\u001b[0;32m----> 1\u001b[0;31m \u001b[0mresult\u001b[0m \u001b[0;34m=\u001b[0m \u001b[0ms\u001b[0m\u001b[0;34m.\u001b[0m\u001b[0mindex\u001b[0m\u001b[0;34m(\u001b[0m\u001b[0;34m'z'\u001b[0m\u001b[0;34m)\u001b[0m\u001b[0;34m\u001b[0m\u001b[0;34m\u001b[0m\u001b[0m\n\u001b[0m\u001b[1;32m      2\u001b[0m \u001b[0mresult\u001b[0m\u001b[0;34m\u001b[0m\u001b[0;34m\u001b[0m\u001b[0m\n",
            "\u001b[0;31mValueError\u001b[0m: substring not found"
          ]
        }
      ]
    },
    {
      "cell_type": "code",
      "metadata": {
        "colab": {
          "base_uri": "https://localhost:8080/",
          "height": 34
        },
        "id": "QDXCX5ZvPKUf",
        "outputId": "4e5f51af-9637-4150-a58f-300a10fe7c3d"
      },
      "source": [
        "s = s.strip()      \t            # a copy of s without leading or trailing whitespace\n",
        "s\n",
        "#아~그 스트립은 뭐를 베껴주는건가?\n",
        "#()안에 아무것도 없으면 양끝에 공백-whitespace- 제거\n",
        "#()안에 뭐 써있으면 그걸 제거! 양 끝에서부터! ; 근데 계속 제거함. 다른게 나올때까지.\n",
        "#rstrip 은 오른쪽에서~ lstrip은 왼쪽에서~"
      ],
      "execution_count": 39,
      "outputs": [
        {
          "output_type": "execute_result",
          "data": {
            "application/vnd.google.colaboratory.intrinsic+json": {
              "type": "string"
            },
            "text/plain": [
              "'this is a house built this year.'"
            ]
          },
          "metadata": {
            "tags": []
          },
          "execution_count": 39
        }
      ]
    },
    {
      "cell_type": "code",
      "metadata": {
        "colab": {
          "base_uri": "https://localhost:8080/"
        },
        "id": "9uZfdCooQqvS",
        "outputId": "ae303a96-f2b6-4aee-9837-351472a66fc8"
      },
      "source": [
        "tokens = s.split(' ')\t        # split s into a list wherever a t is found (whitespace by default)\n",
        "tokens\n",
        "#스플릿은 ''이렇게 했으니까 공백 기준으로 다 쪼개벌임~~~\n",
        "#리스트로 나온닥!!!!!!"
      ],
      "execution_count": 40,
      "outputs": [
        {
          "output_type": "execute_result",
          "data": {
            "text/plain": [
              "['this', 'is', 'a', 'house', 'built', 'this', 'year.']"
            ]
          },
          "metadata": {
            "tags": []
          },
          "execution_count": 40
        }
      ]
    },
    {
      "cell_type": "code",
      "metadata": {
        "colab": {
          "base_uri": "https://localhost:8080/",
          "height": 34
        },
        "id": "BtA0rCHEQ1PQ",
        "outputId": "8c11d4de-012d-48e5-f160-f9f35818034b"
      },
      "source": [
        "#s = ' '.join(tokens)\t        # combine the words of the text into a string using s as the glue\n",
        "#s\n",
        "#조인은 저 . 앞에 있는 애를 ! 사이사이에 넣어갖고 합쳐줌.\n",
        "s = '@'.join(tokens)\n",
        "s\n",
        "#저 안에 str만 ㄱㄴ int 넣으면 오류생김"
      ],
      "execution_count": 45,
      "outputs": [
        {
          "output_type": "execute_result",
          "data": {
            "application/vnd.google.colaboratory.intrinsic+json": {
              "type": "string"
            },
            "text/plain": [
              "'this@is@a@house@built@this@year.'"
            ]
          },
          "metadata": {
            "tags": []
          },
          "execution_count": 45
        }
      ]
    },
    {
      "cell_type": "code",
      "metadata": {
        "colab": {
          "base_uri": "https://localhost:8080/",
          "height": 34
        },
        "id": "1kYeZPwBRKMT",
        "outputId": "2331ead6-9b33-4edd-f8d4-aee4c92efe47"
      },
      "source": [
        "s = s.replace('this', 'that')   # replace instances of t with u inside s\n",
        "s"
      ],
      "execution_count": 46,
      "outputs": [
        {
          "output_type": "execute_result",
          "data": {
            "application/vnd.google.colaboratory.intrinsic+json": {
              "type": "string"
            },
            "text/plain": [
              "'that@is@a@house@built@that@year.'"
            ]
          },
          "metadata": {
            "tags": []
          },
          "execution_count": 46
        }
      ]
    },
    {
      "cell_type": "markdown",
      "metadata": {
        "id": "6gfEjC0YRORD"
      },
      "source": [
        "**Syntax**"
      ]
    },
    {
      "cell_type": "code",
      "metadata": {
        "colab": {
          "base_uri": "https://localhost:8080/"
        },
        "id": "sdbChIoARRKc",
        "outputId": "f6e6327a-5b89-4a2b-98c2-2b38c041e7fc"
      },
      "source": [
        "a = [1, 2, 3, 4]\n",
        "for i in a:\n",
        "    print(i)\n",
        "    #for문은 함수가 아니야~~~~~~~~!!!!!!!!1\n",
        "    #for/while/함수"
      ],
      "execution_count": 47,
      "outputs": [
        {
          "output_type": "stream",
          "text": [
            "1\n",
            "2\n",
            "3\n",
            "4\n"
          ],
          "name": "stdout"
        }
      ]
    },
    {
      "cell_type": "code",
      "metadata": {
        "colab": {
          "base_uri": "https://localhost:8080/"
        },
        "id": "u-Ke0O6QRUib",
        "outputId": "10fba9e2-d885-42ba-ef35-17a4ac5f60fb"
      },
      "source": [
        "a = [1, 2, 3, 4]\n",
        "for i in range(len(a)):\n",
        "    print(a[i])\n",
        "#for i in range(1,3):\n",
        "#  print(i)\n",
        "#range(1,3)이면 1부터 2임!!! 그리고 range(3)이면 0, 요것이 디폴트라고 생각하며는 된다~~"
      ],
      "execution_count": 53,
      "outputs": [
        {
          "output_type": "stream",
          "text": [
            "1\n",
            "2\n",
            "3\n",
            "4\n"
          ],
          "name": "stdout"
        }
      ]
    },
    {
      "cell_type": "code",
      "metadata": {
        "colab": {
          "base_uri": "https://localhost:8080/"
        },
        "id": "lsUC7jO0R4nO",
        "outputId": "98a0cb90-5f50-4764-9261-b59bd66c8b0e"
      },
      "source": [
        "a = ['red', 'green', 'blue', 'purple']\n",
        "for i in a:\n",
        "    print(i)"
      ],
      "execution_count": 54,
      "outputs": [
        {
          "output_type": "stream",
          "text": [
            "red\n",
            "green\n",
            "blue\n",
            "purple\n"
          ],
          "name": "stdout"
        }
      ]
    },
    {
      "cell_type": "code",
      "metadata": {
        "colab": {
          "base_uri": "https://localhost:8080/"
        },
        "id": "ksZ_EPk-R6rC",
        "outputId": "0e5f6f23-5bac-4e51-c4fe-95aa98212bb8"
      },
      "source": [
        "a = ['red', 'green', 'blue', 'purple']\n",
        "for i in range(len(a)):\n",
        "    print(a[i])"
      ],
      "execution_count": 55,
      "outputs": [
        {
          "output_type": "stream",
          "text": [
            "red\n",
            "green\n",
            "blue\n",
            "purple\n"
          ],
          "name": "stdout"
        }
      ]
    },
    {
      "cell_type": "code",
      "metadata": {
        "colab": {
          "base_uri": "https://localhost:8080/"
        },
        "id": "4nk2f0HTS4xl",
        "outputId": "565c5e74-b092-4289-b4b8-48add1e5221a"
      },
      "source": [
        "a = 0\n",
        "if a == 0:\n",
        "    print(a)\n",
        "else:\n",
        "    print(a+1)"
      ],
      "execution_count": 62,
      "outputs": [
        {
          "output_type": "stream",
          "text": [
            "0\n"
          ],
          "name": "stdout"
        }
      ]
    },
    {
      "cell_type": "code",
      "metadata": {
        "colab": {
          "base_uri": "https://localhost:8080/"
        },
        "id": "bSqKVH0pR9q5",
        "outputId": "f078edab-5648-4e61-d8d5-09e207d53de3"
      },
      "source": [
        "a = [0,1,2,3]\n",
        "for i in a:\n",
        "  if i == 0:\n",
        "    print('zero')\n",
        "  else:\n",
        "    print('yayy',i)"
      ],
      "execution_count": 61,
      "outputs": [
        {
          "output_type": "stream",
          "text": [
            "zero\n",
            "yayy 1\n",
            "yayy 2\n",
            "yayy 3\n"
          ],
          "name": "stdout"
        }
      ]
    },
    {
      "cell_type": "code",
      "metadata": {
        "colab": {
          "base_uri": "https://localhost:8080/"
        },
        "id": "c5UpGIQiSFWf",
        "outputId": "045fa78b-fb01-4896-bfac-542d6099d46a"
      },
      "source": [
        "for i in range(1, 3):\n",
        "    for j in range(3, 5):\n",
        "        print(i*j)\n",
        "#헷!갈!리!지!말기!!!!!!!"
      ],
      "execution_count": 63,
      "outputs": [
        {
          "output_type": "stream",
          "text": [
            "3\n",
            "4\n",
            "6\n",
            "8\n"
          ],
          "name": "stdout"
        }
      ]
    },
    {
      "cell_type": "code",
      "metadata": {
        "colab": {
          "base_uri": "https://localhost:8080/"
        },
        "id": "OP-a2J9YUZpN",
        "outputId": "c2dfc776-8965-44d7-a0e8-ed0a02eb3943"
      },
      "source": [
        "for i in range(1, 3):\n",
        "    for j in range(3, 5):\n",
        "        if j >=4:\n",
        "            print(i*j)"
      ],
      "execution_count": 68,
      "outputs": [
        {
          "output_type": "stream",
          "text": [
            "4\n",
            "8\n"
          ],
          "name": "stdout"
        }
      ]
    },
    {
      "cell_type": "code",
      "metadata": {
        "colab": {
          "base_uri": "https://localhost:8080/"
        },
        "id": "VHVQvD4sU3M-",
        "outputId": "68e2dc6c-8e8a-46a0-cdc1-df6c8d85f72e"
      },
      "source": [
        "[i*j for i in range(1,3) for j in range (3,5) if j >= 4]\n",
        "#오 그냥 순서대로 쓰는거맞네\n",
        "#뒤에부터 실행되는듯 !!! I mean 뒤에 for 문 부터!!!\n",
        "#근데 프린트 할것을 맨 앞에 둔다는 것만 다른듯@_@~~~"
      ],
      "execution_count": 71,
      "outputs": [
        {
          "output_type": "execute_result",
          "data": {
            "text/plain": [
              "[4, 8]"
            ]
          },
          "metadata": {
            "tags": []
          },
          "execution_count": 71
        }
      ]
    },
    {
      "cell_type": "code",
      "metadata": {
        "colab": {
          "base_uri": "https://localhost:8080/"
        },
        "id": "ISoLW60aUfBd",
        "outputId": "156f2ea6-d8e8-4914-beb9-2672abfbf0f6"
      },
      "source": [
        "a = [1, 2, 3, 4]\n",
        "b = [i for i in a if i >=2]\n",
        "b\n",
        "#리스트컴프뤼헨션~!!!! 기억잘하긔 쭉 한줄로 쓰는것! 순서대로!"
      ],
      "execution_count": 69,
      "outputs": [
        {
          "output_type": "execute_result",
          "data": {
            "text/plain": [
              "[2, 3, 4]"
            ]
          },
          "metadata": {
            "tags": []
          },
          "execution_count": 69
        }
      ]
    },
    {
      "cell_type": "code",
      "metadata": {
        "colab": {
          "base_uri": "https://localhost:8080/"
        },
        "id": "0-zCUuouU0Zq",
        "outputId": "2ca199aa-d24c-41f6-d5e3-fb68ea4ba75c"
      },
      "source": [
        "a = ['red', 'green', 'blue', 'purple']\n",
        "b = [i for i in a if len(i) >=4]\n",
        "b"
      ],
      "execution_count": 72,
      "outputs": [
        {
          "output_type": "execute_result",
          "data": {
            "text/plain": [
              "['green', 'blue', 'purple']"
            ]
          },
          "metadata": {
            "tags": []
          },
          "execution_count": 72
        }
      ]
    },
    {
      "cell_type": "markdown",
      "metadata": {
        "id": "9KxcrpJaVfb1"
      },
      "source": [
        "**Function**"
      ]
    },
    {
      "cell_type": "code",
      "metadata": {
        "id": "A6vlCm8wVgz1"
      },
      "source": [
        "def add(a,b):\n",
        "  return a+b\n",
        "\n",
        "def subtract(a,b):\n",
        "  return a-b\n",
        "\n",
        "def multiply(a,b):\n",
        "  return a*b\n",
        "\n",
        "def divide(a,b):\n",
        "  return a/b"
      ],
      "execution_count": 73,
      "outputs": []
    },
    {
      "cell_type": "code",
      "metadata": {
        "colab": {
          "base_uri": "https://localhost:8080/"
        },
        "id": "YtoHbpPqVkIq",
        "outputId": "6ccf0070-29ec-4e6b-9287-089d0ce78553"
      },
      "source": [
        "print(add(1,2))\n",
        "print(subtract(2,1))\n",
        "print(multiply(2,7))\n",
        "print(divide(6,3))\n",
        "#프린트를 안붙히면 맨 마지막꺼만 나옴. 왜!?!!"
      ],
      "execution_count": 77,
      "outputs": [
        {
          "output_type": "stream",
          "text": [
            "3\n",
            "1\n",
            "14\n",
            "2.0\n"
          ],
          "name": "stdout"
        }
      ]
    }
  ]
}