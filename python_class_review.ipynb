{
  "nbformat": 4,
  "nbformat_minor": 0,
  "metadata": {
    "colab": {
      "name": "python-class review.ipynb",
      "provenance": [],
      "authorship_tag": "ABX9TyNHXDtULOQ7D3P52I+w8yBj",
      "include_colab_link": true
    },
    "kernelspec": {
      "name": "python3",
      "display_name": "Python 3"
    },
    "language_info": {
      "name": "python"
    }
  },
  "cells": [
    {
      "cell_type": "markdown",
      "metadata": {
        "id": "view-in-github",
        "colab_type": "text"
      },
      "source": [
        "<a href=\"https://colab.research.google.com/github/Narae-210/class2021Spring/blob/main/python_class_review.ipynb\" target=\"_parent\"><img src=\"https://colab.research.google.com/assets/colab-badge.svg\" alt=\"Open In Colab\"/></a>"
      ]
    },
    {
      "cell_type": "code",
      "metadata": {
        "id": "4lqiqFlQ3a2K"
      },
      "source": [
        "class FourCal:\n",
        "  def __init__(self, first, second):\n",
        "    self.first = first\n",
        "    self.second = second\n",
        "    #self는 생성되는 객체 (여기서는 a를 의미.)\n",
        "  def setdata(self, first, second):\n",
        "    self.first = first\n",
        "    self.second = second\n",
        "  def add(self):\n",
        "    result = self.first + self.second\n",
        "    return result\n",
        "\n",
        "    #여기서 __init__ 가 constructor 생성자의 역할을 해서 객체가 생성될 때 자동으로 호출되는 메서드가 생김!!! 따라서 setdata 굳이 안해도 됨~~ setdata에 #넣어도 오류 없음ㅎㅎㅎ 예~~~"
      ],
      "execution_count": 14,
      "outputs": []
    },
    {
      "cell_type": "code",
      "metadata": {
        "colab": {
          "base_uri": "https://localhost:8080/"
        },
        "id": "V_1-EUJd3uLk",
        "outputId": "90750bc4-3b87-41ab-fdc2-554d4ed459c7"
      },
      "source": [
        "a = FourCal(1,2)\n",
        "print(a)\n",
        "print(a.first)\n",
        "print(a.second)\n",
        "print(\"----\")\n",
        "print(a.add())"
      ],
      "execution_count": 13,
      "outputs": [
        {
          "output_type": "stream",
          "text": [
            "<__main__.FourCal object at 0x7f3b25ff5750>\n",
            "1\n",
            "2\n",
            "----\n",
            "3\n"
          ],
          "name": "stdout"
        }
      ]
    },
    {
      "cell_type": "code",
      "metadata": {
        "id": "sRlKrXKy4oaw"
      },
      "source": [
        "#클래스의 상속(inheritance)\n",
        "class MoreeFourCal (FourCal):\n",
        "  def pow(self):\n",
        "    result = self.first ** self.second\n",
        "    #return result\n",
        "\n",
        "\n",
        "#\"클래스에 기능을 추가하고 싶으면 기존 클래스를 수정하면 되는데 왜 굳이 상속을 받아서 처리해야 하지?\" 라는 의문이 들 수도 있다. \n",
        "#하지만 기존 클래스가 라이브러리 형태로 제공되거나 수정이 허용되지 않는 상황이라면 상속을 사용해야 한다."
      ],
      "execution_count": 24,
      "outputs": []
    },
    {
      "cell_type": "code",
      "metadata": {
        "colab": {
          "base_uri": "https://localhost:8080/"
        },
        "id": "sE3iHcW85OpA",
        "outputId": "3daea9b3-2783-4ded-c93a-f2197d5f775b"
      },
      "source": [
        "a = MoreeFourCal(2,3)\n",
        "print(a)\n",
        "#print(a.pow())\n",
        "print(a.pow())\n",
        "#pow 함수에서 return 값이 없으면 print 했을때 None 나옴!!! print 함수 안해주면 그냥 아무것도 없음(None 조차도 안나옴.)"
      ],
      "execution_count": 26,
      "outputs": [
        {
          "output_type": "stream",
          "text": [
            "<__main__.MoreeFourCal object at 0x7f3b218ad650>\n",
            "None\n"
          ],
          "name": "stdout"
        }
      ]
    }
  ]
}