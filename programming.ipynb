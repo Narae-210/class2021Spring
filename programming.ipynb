{
  "nbformat": 4,
  "nbformat_minor": 0,
  "metadata": {
    "colab": {
      "name": "programming.ipynb",
      "provenance": [],
      "authorship_tag": "ABX9TyNcB68y6dQ3z3k5q8UQE3TQ",
      "include_colab_link": true
    },
    "kernelspec": {
      "name": "python3",
      "display_name": "Python 3"
    }
  },
  "cells": [
    {
      "cell_type": "markdown",
      "metadata": {
        "id": "view-in-github",
        "colab_type": "text"
      },
      "source": [
        "<a href=\"https://colab.research.google.com/github/Narae-210/class2021Spring/blob/main/programming.ipynb\" target=\"_parent\"><img src=\"https://colab.research.google.com/assets/colab-badge.svg\" alt=\"Open In Colab\"/></a>"
      ]
    },
    {
      "cell_type": "markdown",
      "metadata": {
        "id": "zIB8_LfQo7aY"
      },
      "source": [
        "## **프로그래밍 언어**\r\n",
        "\r\n",
        "*인간: 단어 + 문법* 이 있듯이,\r\n",
        "*컴퓨터: 변수 + 문법* 이 있음!\r\n",
        "\r\n",
        "<변수>\r\n",
        "a = 1 ; 1이라는 내용을 a라는 변수(variable)에 할당(assign)하는 것.\r\n",
        "\r\n",
        "b = 3, c = 'love'\r\n",
        "\r\n",
        "<문법>\r\n",
        "1. 반복: for\r\n",
        "2. 조건: if \r\n",
        "3. 함수: 입/출력 (x -- f --> f(x) )\r\n",
        "+ day1\r\n",
        "a = 1, b = 2, \r\n",
        "a+b\r\n",
        "\r\n",
        "day2\r\n",
        "a = 1, b = 2, \r\n",
        "a+b\r\n",
        "\r\n",
        "day3\r\n",
        "a = 1, b = 2, \r\n",
        "a+b\r\n",
        "\r\n",
        "***매번 같은 + 작업을 하는 게 번거로우니, a와 b의 변수를 더하는 add 함수를 만들어 준다.**\r\n",
        "\r\n",
        "+ function add(a,b):\r\n",
        "c= a + b \r\n",
        "\r\n",
        "return c\r\n",
        "\r\n",
        "***그러면 a와 b의 값만 할당한 후, add(a,b) 함수를 돌려주면 매번 일일이 값을 입력하고 더하지 않아도 원하는 값이 c에 할당되어 나오게 된다.**"
      ]
    }
  ]
}