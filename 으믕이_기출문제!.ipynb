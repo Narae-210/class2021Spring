{
  "nbformat": 4,
  "nbformat_minor": 0,
  "metadata": {
    "colab": {
      "name": "으믕이 기출문제!.ipynb",
      "provenance": [],
      "authorship_tag": "ABX9TyM/GvBYIdYH8AFNMyUUxvMi",
      "include_colab_link": true
    },
    "kernelspec": {
      "name": "python3",
      "display_name": "Python 3"
    },
    "language_info": {
      "name": "python"
    }
  },
  "cells": [
    {
      "cell_type": "markdown",
      "metadata": {
        "id": "view-in-github",
        "colab_type": "text"
      },
      "source": [
        "<a href=\"https://colab.research.google.com/github/Narae-210/class2021Spring/blob/main/%EC%9C%BC%EB%AF%95%EC%9D%B4_%EA%B8%B0%EC%B6%9C%EB%AC%B8%EC%A0%9C!.ipynb\" target=\"_parent\"><img src=\"https://colab.research.google.com/assets/colab-badge.svg\" alt=\"Open In Colab\"/></a>"
      ]
    },
    {
      "cell_type": "code",
      "metadata": {
        "colab": {
          "base_uri": "https://localhost:8080/"
        },
        "id": "f6qOc7xZF6K_",
        "outputId": "4e87523a-e09f-45cf-a901-a5f93513f235"
      },
      "source": [
        "a = [[1],[2,3],[4,5,6]]\n",
        "n = 0\n",
        "for b in a :\n",
        "  for d in b:\n",
        "    n += 1\n",
        "print(n)"
      ],
      "execution_count": 1,
      "outputs": [
        {
          "output_type": "stream",
          "text": [
            "6\n"
          ],
          "name": "stdout"
        }
      ]
    },
    {
      "cell_type": "code",
      "metadata": {
        "colab": {
          "base_uri": "https://localhost:8080/"
        },
        "id": "EfmUQH5GGyrE",
        "outputId": "b3124aee-f525-43ba-cb1a-197de65f3ff6"
      },
      "source": [
        "b = [1, 'a', {'a':[3,6], 'b':[9]}, 'b']\n",
        "print(b[-2]['b'][-1])"
      ],
      "execution_count": 2,
      "outputs": [
        {
          "output_type": "stream",
          "text": [
            "9\n"
          ],
          "name": "stdout"
        }
      ]
    },
    {
      "cell_type": "code",
      "metadata": {
        "colab": {
          "base_uri": "https://localhost:8080/"
        },
        "id": "u65cYHCyHAAC",
        "outputId": "310cbc09-5776-4cb9-df06-d21b9c710314"
      },
      "source": [
        "c = [1, 'a', {'a':'abc', 'b':'def'}]\n",
        "print(c[-1]['b'][-2])"
      ],
      "execution_count": 3,
      "outputs": [
        {
          "output_type": "stream",
          "text": [
            "e\n"
          ],
          "name": "stdout"
        }
      ]
    },
    {
      "cell_type": "code",
      "metadata": {
        "colab": {
          "base_uri": "https://localhost:8080/"
        },
        "id": "C7J-hTlcHG7D",
        "outputId": "d53f4736-5e71-464d-dafd-c3cc2f979679"
      },
      "source": [
        "d = ['th', 's']\n",
        "print('i'.join(d)[-3])"
      ],
      "execution_count": 4,
      "outputs": [
        {
          "output_type": "stream",
          "text": [
            "h\n"
          ],
          "name": "stdout"
        }
      ]
    },
    {
      "cell_type": "code",
      "metadata": {
        "colab": {
          "base_uri": "https://localhost:8080/"
        },
        "id": "pNkm6anlHOMR",
        "outputId": "7d096cd9-1b52-4e11-b5bd-26e2eb7b4f3b"
      },
      "source": [
        "e = [1, 1.2, 'k', [1, [2], {'a', 'apple'}]]\n",
        "for x in e:\n",
        "  if type(x) == 'dict':\n",
        "    print(x)\n",
        "  else:\n",
        "    if x == 'k':\n",
        "      print(x)"
      ],
      "execution_count": 5,
      "outputs": [
        {
          "output_type": "stream",
          "text": [
            "k\n"
          ],
          "name": "stdout"
        }
      ]
    },
    {
      "cell_type": "code",
      "metadata": {
        "colab": {
          "base_uri": "https://localhost:8080/"
        },
        "id": "3j0vPEZTJIBl",
        "outputId": "3d249466-6c20-46da-fe62-71e95b7dfcec"
      },
      "source": [
        "t = 0\n",
        "for p in range(3):\n",
        "  if p <=1:\n",
        "    for q in range(4):\n",
        "      t += q\n",
        "    for r in range(2):\n",
        "      t += r\n",
        "print(t*r)"
      ],
      "execution_count": 6,
      "outputs": [
        {
          "output_type": "stream",
          "text": [
            "14\n"
          ],
          "name": "stdout"
        }
      ]
    },
    {
      "cell_type": "code",
      "metadata": {
        "colab": {
          "base_uri": "https://localhost:8080/"
        },
        "id": "6D972ge1L8t4",
        "outputId": "ddd8a7e6-e442-4307-e215-8d7a926d461a"
      },
      "source": [
        "a = [1,2,3,4]\n",
        "if len(a) == 3:\n",
        "  print(0)\n",
        "else:\n",
        "  print(1)"
      ],
      "execution_count": 7,
      "outputs": [
        {
          "output_type": "stream",
          "text": [
            "1\n"
          ],
          "name": "stdout"
        }
      ]
    },
    {
      "cell_type": "code",
      "metadata": {
        "colab": {
          "base_uri": "https://localhost:8080/"
        },
        "id": "q1_dFw3WMKfz",
        "outputId": "4e379a3d-4055-48fd-fa5b-469100f371e6"
      },
      "source": [
        "a = (5.2, {1: 'apple', 'k': 4.9}, (9.1, [10,12.1]))\n",
        "print(int(a[2][-1][0]))"
      ],
      "execution_count": 8,
      "outputs": [
        {
          "output_type": "stream",
          "text": [
            "10\n"
          ],
          "name": "stdout"
        }
      ]
    }
  ]
}