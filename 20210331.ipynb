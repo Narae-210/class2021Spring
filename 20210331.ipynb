{
  "nbformat": 4,
  "nbformat_minor": 0,
  "metadata": {
    "colab": {
      "name": "Untitled1.ipynb",
      "provenance": [],
      "authorship_tag": "ABX9TyNsHESTDlnnNk7g+6FxrQL0",
      "include_colab_link": true
    },
    "kernelspec": {
      "name": "python3",
      "display_name": "Python 3"
    },
    "language_info": {
      "name": "python"
    }
  },
  "cells": [
    {
      "cell_type": "markdown",
      "metadata": {
        "id": "view-in-github",
        "colab_type": "text"
      },
      "source": [
        "<a href=\"https://colab.research.google.com/github/Narae-210/class2021Spring/blob/main/20210331.ipynb\" target=\"_parent\"><img src=\"https://colab.research.google.com/assets/colab-badge.svg\" alt=\"Open In Colab\"/></a>"
      ]
    },
    {
      "cell_type": "markdown",
      "metadata": {
        "id": "7_8bIEZD4QWn"
      },
      "source": [
        "**아**\n",
        "\n",
        "pitch: 181.8 Hz\n",
        "\n",
        "intensity: 76.64 dB\n",
        "\n",
        "formant: 1107 Hz, 1651 Hz\n",
        "\n",
        "duration: 0.491130 seconds\n",
        "\n",
        "**애**\n",
        "\n",
        "pitch: 186 Hz\n",
        "\n",
        "intensity:77.03 dB\n",
        "\n",
        "formant: 470.8 Hz, 2520 Hz\n",
        "\n",
        "duration: 0.443792 seconds"
      ]
    }
  ]
}