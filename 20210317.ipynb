{
  "nbformat": 4,
  "nbformat_minor": 0,
  "metadata": {
    "colab": {
      "name": "20210317.ipynb",
      "provenance": [],
      "authorship_tag": "ABX9TyOSFl8cWtgtEfF594h6SsQX",
      "include_colab_link": true
    },
    "kernelspec": {
      "name": "python3",
      "display_name": "Python 3"
    }
  },
  "cells": [
    {
      "cell_type": "markdown",
      "metadata": {
        "id": "view-in-github",
        "colab_type": "text"
      },
      "source": [
        "<a href=\"https://colab.research.google.com/github/Narae-210/class2021Spring/blob/main/20210317.ipynb\" target=\"_parent\"><img src=\"https://colab.research.google.com/assets/colab-badge.svg\" alt=\"Open In Colab\"/></a>"
      ]
    },
    {
      "cell_type": "code",
      "metadata": {
        "colab": {
          "base_uri": "https://localhost:8080/"
        },
        "id": "57nA65AQub2v",
        "outputId": "3aeb7b47-0c39-4bcb-f9c2-1cea316a0ca1"
      },
      "source": [
        "a= [1,2,3,4,5,6]\r\n",
        "for i in a:\r\n",
        "  if i >= 3:\r\n",
        "    print (i)\r\n",
        "  else:\r\n",
        "    print(\"none\")"
      ],
      "execution_count": null,
      "outputs": [
        {
          "output_type": "stream",
          "text": [
            "none\n",
            "none\n",
            "3\n",
            "4\n",
            "5\n",
            "6\n"
          ],
          "name": "stdout"
        }
      ]
    },
    {
      "cell_type": "code",
      "metadata": {
        "id": "5hGjci8zvuNV",
        "outputId": "8c635466-a5c6-4498-a8d0-412a20c1f3ed",
        "colab": {
          "base_uri": "https://localhost:8080/"
        }
      },
      "source": [
        "for i in ['나랭2','이나래']:\r\n",
        "  for j in ['스마트걸','으믕최고','영교짱','아무것도못해ㅠ','바보임메롱']:\r\n",
        "    if len(j) <= 4:\r\n",
        "      print(i+j)"
      ],
      "execution_count": 2,
      "outputs": [
        {
          "output_type": "stream",
          "text": [
            "나랭2스마트걸\n",
            "나랭2으믕최고\n",
            "나랭2영교짱\n",
            "이나래스마트걸\n",
            "이나래으믕최고\n",
            "이나래영교짱\n"
          ],
          "name": "stdout"
        }
      ]
    },
    {
      "cell_type": "code",
      "metadata": {
        "colab": {
          "base_uri": "https://localhost:8080/"
        },
        "id": "Z4wFxRXYuwqm",
        "outputId": "2d0ec55c-0ecb-4671-d57c-6fa22bb6a31e"
      },
      "source": [
        "a = ['pink', 'yellow', 'white']\r\n",
        "b = [ i for i in a  if len (i) == 4 ]\r\n",
        "b"
      ],
      "execution_count": null,
      "outputs": [
        {
          "output_type": "execute_result",
          "data": {
            "text/plain": [
              "['pink']"
            ]
          },
          "metadata": {
            "tags": []
          },
          "execution_count": 4
        }
      ]
    }
  ]
}