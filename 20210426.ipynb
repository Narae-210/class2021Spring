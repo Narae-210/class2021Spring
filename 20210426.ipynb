{
  "nbformat": 4,
  "nbformat_minor": 0,
  "metadata": {
    "colab": {
      "name": "20210426.ipynb",
      "provenance": [],
      "authorship_tag": "ABX9TyNn91TGAJwKgXuchvQottqs",
      "include_colab_link": true
    },
    "kernelspec": {
      "name": "python3",
      "display_name": "Python 3"
    },
    "language_info": {
      "name": "python"
    }
  },
  "cells": [
    {
      "cell_type": "markdown",
      "metadata": {
        "id": "view-in-github",
        "colab_type": "text"
      },
      "source": [
        "<a href=\"https://colab.research.google.com/github/Narae-210/class2021Spring/blob/main/20210426.ipynb\" target=\"_parent\"><img src=\"https://colab.research.google.com/assets/colab-badge.svg\" alt=\"Open In Colab\"/></a>"
      ]
    },
    {
      "cell_type": "code",
      "metadata": {
        "id": "SInFXSU6xYyy"
      },
      "source": [
        "def phasor(x,y,z,w):\n",
        "  # amp, sr, dur, freq\n",
        "  %matplotlib inline\n",
        "  from matplotlib import pyplot as plt\n",
        "  import IPython.display as ipd\n",
        "  import numpy as np\n",
        "  from scipy.signal import lfilter\n",
        "  t = np.arange(1, y * z +1 ) / y\n",
        "  theta = t * 2 *np.pi * w\n",
        "  s = np.sin(theta)\n",
        "  return s, theta, t"
      ],
      "execution_count": 24,
      "outputs": []
    },
    {
      "cell_type": "code",
      "metadata": {
        "id": "yGztvXdByX-u",
        "colab": {
          "base_uri": "https://localhost:8080/"
        },
        "outputId": "8127a998-c1c3-4393-b8d2-9b5541ebfd2a"
      },
      "source": [
        "phasor(1, 5000, 0.5, 200)"
      ],
      "execution_count": 25,
      "outputs": [
        {
          "output_type": "execute_result",
          "data": {
            "text/plain": [
              "(array([ 2.48689887e-01,  4.81753674e-01,  6.84547106e-01, ...,\n",
              "        -4.81753674e-01, -2.48689887e-01,  3.92877345e-15]),\n",
              " array([2.51327412e-01, 5.02654825e-01, 7.53982237e-01, ...,\n",
              "        6.27815876e+02, 6.28067203e+02, 6.28318531e+02]),\n",
              " array([2.000e-04, 4.000e-04, 6.000e-04, ..., 4.996e-01, 4.998e-01,\n",
              "        5.000e-01]))"
            ]
          },
          "metadata": {
            "tags": []
          },
          "execution_count": 25
        }
      ]
    }
  ]
}