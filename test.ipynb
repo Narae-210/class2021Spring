{
  "nbformat": 4,
  "nbformat_minor": 0,
  "metadata": {
    "colab": {
      "name": "test.ipynb",
      "provenance": [],
      "authorship_tag": "ABX9TyNFl3hH3pszIZUGjBcOgVme",
      "include_colab_link": true
    },
    "kernelspec": {
      "name": "python3",
      "display_name": "Python 3"
    }
  },
  "cells": [
    {
      "cell_type": "markdown",
      "metadata": {
        "id": "view-in-github",
        "colab_type": "text"
      },
      "source": [
        "<a href=\"https://colab.research.google.com/github/Narae-210/class2021Spring/blob/main/test.ipynb\" target=\"_parent\"><img src=\"https://colab.research.google.com/assets/colab-badge.svg\" alt=\"Open In Colab\"/></a>"
      ]
    },
    {
      "cell_type": "markdown",
      "metadata": {
        "id": "AVOMG0ZiUOO0"
      },
      "source": [
        "# **오늘 배운 것:**\r\n",
        "## github 계정 login 해서, repository 만들기  (이름은 class2021Spring)\r\n",
        "\r\n",
        "1. python\r\n",
        "2. markdown"
      ]
    },
    {
      "cell_type": "code",
      "metadata": {
        "id": "OHL-fnbzT4Qp"
      },
      "source": [
        ""
      ],
      "execution_count": null,
      "outputs": []
    },
    {
      "cell_type": "code",
      "metadata": {
        "colab": {
          "base_uri": "https://localhost:8080/"
        },
        "id": "YAFEp2CcVwKd",
        "outputId": "8344aa25-db36-4e1f-ab2a-dc77205ab936"
      },
      "source": [
        "a = 1\r\n",
        "b = 2\r\n",
        "c = a + b\r\n",
        "c "
      ],
      "execution_count": 1,
      "outputs": [
        {
          "output_type": "execute_result",
          "data": {
            "text/plain": [
              "3"
            ]
          },
          "metadata": {
            "tags": []
          },
          "execution_count": 1
        }
      ]
    },
    {
      "cell_type": "markdown",
      "metadata": {
        "id": "BjvgSJx3Wy3G"
      },
      "source": [
        "## *우리는* 파이썬을 배우게 됩니다.\r\n",
        "\r\n",
        "\r\n",
        "# **파이썬을 어디서 배우나요?**\r\n",
        "\r\n",
        "### Jump to Python"
      ]
    }
  ]
}